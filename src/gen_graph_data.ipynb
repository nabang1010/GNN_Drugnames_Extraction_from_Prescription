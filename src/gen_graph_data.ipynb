{
 "cells": [
  {
   "cell_type": "code",
   "execution_count": 1,
   "metadata": {},
   "outputs": [],
   "source": [
    "import numpy as np\n",
    "import pandas as pd\n",
    "import cv2\n",
    "import os\n",
    "import matplotlib.pyplot as plt \n",
    "import math \n",
    "import itertools\n",
    "import networkx as nx\n",
    "\n",
    "\n",
    "\n",
    "\n",
    "def check_exist_folder(folder_path):\n",
    "    if not os.path.exists(folder_path):\n",
    "        os.makedirs(folder_path)\n",
    "        print(\"Folder created: \", folder_path)\n",
    "    else:\n",
    "        print(\"Folder already exist: \", folder_path)\n",
    "    return\n",
    "    \n",
    "\n",
    "class Grapher:\n",
    "    def __init__(self, filename, data_fd):\n",
    "        self.filename = filename\n",
    "        self.data_fd = data_fd\n",
    "\n",
    "        file_path = os.path.join(self.data_fd, \"./data_csv\", filename + '.csv')\n",
    "        image_path = os.path.join(self.data_fd, \"./data_image_train\", filename + '.png')\n",
    "    \n",
    "        self.df = pd.read_csv(file_path)\n",
    "        self.image = cv2.imread(image_path)\n",
    "    \n"
   ]
  }
 ],
 "metadata": {
  "kernelspec": {
   "display_name": "Python 3.8.10 64-bit",
   "language": "python",
   "name": "python3"
  },
  "language_info": {
   "codemirror_mode": {
    "name": "ipython",
    "version": 3
   },
   "file_extension": ".py",
   "mimetype": "text/x-python",
   "name": "python",
   "nbconvert_exporter": "python",
   "pygments_lexer": "ipython3",
   "version": "3.8.10"
  },
  "orig_nbformat": 4,
  "vscode": {
   "interpreter": {
    "hash": "916dbcbb3f70747c44a77c7bcd40155683ae19c65e1c03b4aa3499c5328201f1"
   }
  }
 },
 "nbformat": 4,
 "nbformat_minor": 2
}

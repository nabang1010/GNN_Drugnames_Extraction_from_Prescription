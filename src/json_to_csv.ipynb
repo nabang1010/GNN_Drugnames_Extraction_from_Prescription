{
 "cells": [
  {
   "cell_type": "code",
   "execution_count": 90,
   "metadata": {},
   "outputs": [],
   "source": [
    "from extract_data import unzip"
   ]
  },
  {
   "cell_type": "code",
   "execution_count": 91,
   "metadata": {},
   "outputs": [],
   "source": [
    "# folder_origin = './data_vaipe/public_train.zip'\n",
    "# folder_destination = './data_vaipe/public_train'\n",
    "# unzip(folder_origin, folder_destination)"
   ]
  },
  {
   "cell_type": "code",
   "execution_count": 92,
   "metadata": {},
   "outputs": [],
   "source": [
    "# folder_origin = './data_vaipe/public_test.zip'\n",
    "# folder_destination = './data_vaipe/public_test'\n",
    "# unzip(folder_origin, folder_destination)"
   ]
  },
  {
   "cell_type": "code",
   "execution_count": 93,
   "metadata": {},
   "outputs": [],
   "source": [
    "import pandas as pd\n",
    "import numpy as np\n",
    "import os\n",
    "import sys\n",
    "import glob\n",
    "\n",
    "def listdir_nohidden(path):\n",
    "    file_path_list =  glob.glob(os.path.join(path, '*'))\n",
    "    # get file name by os.path.basename\n",
    "    file_name_list = [os.path.basename(file_path) for file_path in file_path_list]\n",
    "    # remove .csv from file name\n",
    "    file_name_list = [file_name.split('.')[0] for file_name in file_name_list]\n",
    "    return file_name_list\n"
   ]
  },
  {
   "cell_type": "code",
   "execution_count": null,
   "metadata": {},
   "outputs": [],
   "source": []
  },
  {
   "cell_type": "code",
   "execution_count": 94,
   "metadata": {},
   "outputs": [],
   "source": [
    "json_folder = \"/home/long/Desktop/TestInProject/data_vaipe/public_train/prescription/label/\"\n",
    "csv_folder = \"/home/long/Desktop/TestInProject/data_vaipe/public_train/prescription/csv_folder/\"\n",
    "img_folder = \"/home/long/Desktop/TestInProject/data_vaipe/public_train/prescription/image/\""
   ]
  },
  {
   "cell_type": "code",
   "execution_count": 95,
   "metadata": {},
   "outputs": [],
   "source": [
    "# check folder exist if not create it\n",
    "def check_exist_folder(folder_path):\n",
    "    if not os.path.exists(folder_path):\n",
    "        os.makedirs(folder_path)\n",
    "        print(\"Folder created: \", folder_path)\n",
    "    else:\n",
    "        print(\"Folder already exist: \", folder_path)\n",
    "    return\n"
   ]
  },
  {
   "cell_type": "code",
   "execution_count": 96,
   "metadata": {},
   "outputs": [
    {
     "name": "stdout",
     "output_type": "stream",
     "text": [
      "Folder already exist:  /home/long/Desktop/TestInProject/data_vaipe/public_train/prescription/csv_folder/\n",
      "Folder already exist:  /home/long/Desktop/TestInProject/data_vaipe/public_train/prescription/label/\n"
     ]
    }
   ],
   "source": [
    "check_exist_folder(csv_folder)\n",
    "check_exist_folder(json_folder)"
   ]
  },
  {
   "cell_type": "code",
   "execution_count": 97,
   "metadata": {},
   "outputs": [
    {
     "data": {
      "text/plain": [
       "1173"
      ]
     },
     "execution_count": 97,
     "metadata": {},
     "output_type": "execute_result"
    }
   ],
   "source": [
    "len(listdir_nohidden(json_folder))"
   ]
  },
  {
   "cell_type": "code",
   "execution_count": 98,
   "metadata": {},
   "outputs": [
    {
     "data": {
      "text/plain": [
       "1173"
      ]
     },
     "execution_count": 98,
     "metadata": {},
     "output_type": "execute_result"
    }
   ],
   "source": [
    "len(listdir_nohidden(img_folder))"
   ]
  },
  {
   "cell_type": "code",
   "execution_count": 99,
   "metadata": {},
   "outputs": [
    {
     "data": {
      "text/plain": [
       "1173"
      ]
     },
     "execution_count": 99,
     "metadata": {},
     "output_type": "execute_result"
    }
   ],
   "source": [
    "\n",
    "len(listdir_nohidden(csv_folder))"
   ]
  },
  {
   "cell_type": "code",
   "execution_count": 100,
   "metadata": {},
   "outputs": [],
   "source": [
    "# read json file and conver to data frame\n",
    "def read_json(file_name):\n",
    "    df = pd.read_json(file_name)\n",
    "    return df"
   ]
  },
  {
   "cell_type": "code",
   "execution_count": 101,
   "metadata": {},
   "outputs": [
    {
     "data": {
      "text/html": [
       "<div>\n",
       "<style scoped>\n",
       "    .dataframe tbody tr th:only-of-type {\n",
       "        vertical-align: middle;\n",
       "    }\n",
       "\n",
       "    .dataframe tbody tr th {\n",
       "        vertical-align: top;\n",
       "    }\n",
       "\n",
       "    .dataframe thead th {\n",
       "        text-align: right;\n",
       "    }\n",
       "</style>\n",
       "<table border=\"1\" class=\"dataframe\">\n",
       "  <thead>\n",
       "    <tr style=\"text-align: right;\">\n",
       "      <th></th>\n",
       "      <th>id</th>\n",
       "      <th>text</th>\n",
       "      <th>label</th>\n",
       "      <th>box</th>\n",
       "      <th>mapping</th>\n",
       "    </tr>\n",
       "  </thead>\n",
       "  <tbody>\n",
       "    <tr>\n",
       "      <th>0</th>\n",
       "      <td>2</td>\n",
       "      <td>Khoa Khám bệnh</td>\n",
       "      <td>other</td>\n",
       "      <td>[26, 60, 148, 78]</td>\n",
       "      <td>NaN</td>\n",
       "    </tr>\n",
       "    <tr>\n",
       "      <th>1</th>\n",
       "      <td>3</td>\n",
       "      <td>PK Số 5.1 [TĐ]</td>\n",
       "      <td>other</td>\n",
       "      <td>[26, 89, 137, 112]</td>\n",
       "      <td>NaN</td>\n",
       "    </tr>\n",
       "    <tr>\n",
       "      <th>2</th>\n",
       "      <td>4</td>\n",
       "      <td>Số phiếu 58661/2019</td>\n",
       "      <td>other</td>\n",
       "      <td>[372, 91, 547, 123]</td>\n",
       "      <td>NaN</td>\n",
       "    </tr>\n",
       "    <tr>\n",
       "      <th>3</th>\n",
       "      <td>5</td>\n",
       "      <td>4659259</td>\n",
       "      <td>other</td>\n",
       "      <td>[626, 100, 688, 118]</td>\n",
       "      <td>NaN</td>\n",
       "    </tr>\n",
       "    <tr>\n",
       "      <th>4</th>\n",
       "      <td>6</td>\n",
       "      <td>TOA THUỐC BHYT</td>\n",
       "      <td>other</td>\n",
       "      <td>[260, 122, 508, 152]</td>\n",
       "      <td>NaN</td>\n",
       "    </tr>\n",
       "  </tbody>\n",
       "</table>\n",
       "</div>"
      ],
      "text/plain": [
       "   id                 text  label                   box  mapping\n",
       "0   2       Khoa Khám bệnh  other     [26, 60, 148, 78]      NaN\n",
       "1   3       PK Số 5.1 [TĐ]  other    [26, 89, 137, 112]      NaN\n",
       "2   4  Số phiếu 58661/2019  other   [372, 91, 547, 123]      NaN\n",
       "3   5              4659259  other  [626, 100, 688, 118]      NaN\n",
       "4   6       TOA THUỐC BHYT  other  [260, 122, 508, 152]      NaN"
      ]
     },
     "execution_count": 101,
     "metadata": {},
     "output_type": "execute_result"
    }
   ],
   "source": [
    "read_json(\"/home/long/Desktop/TestInProject/json_folder/VAIPE_P_TRAIN_1.json\").head()"
   ]
  },
  {
   "cell_type": "code",
   "execution_count": 102,
   "metadata": {},
   "outputs": [],
   "source": [
    "def fromJSONtoCSV(json_folder, csv_folder):\n",
    "    for i in listdir_nohidden(json_folder):\n",
    "        a = read_json(json_folder + i + \".json\")\n",
    "        df = pd.DataFrame({\"object_old\": a[\"text\"].values, \"label_old\": a[\"label\"].values, \"box\": a[\"box\"].values})\n",
    "        df[\"xmin\"] = df[\"box\"].apply(lambda x: x[0])\n",
    "        df[\"ymin\"] = df[\"box\"].apply(lambda x: x[1])\n",
    "        df[\"xmax\"] = df[\"box\"].apply(lambda x: x[2])\n",
    "        df[\"ymax\"] = df[\"box\"].apply(lambda x: x[3])\n",
    "        # delete colum mapping box\n",
    "        del df[\"box\"]\n",
    "        df[\"Object\"] = df[\"object_old\"].copy()\n",
    "        del df[\"object_old\"]\n",
    "        df[\"label\"] = df[\"label_old\"].copy()\n",
    "        del df[\"label_old\"]\n",
    "        # replace other with nan\n",
    "        df[\"label\"].replace({\"other\": np.nan}, inplace=True)  \n",
    "\n",
    "        # check folder exist or not\n",
    "        if not os.path.exists(csv_folder):\n",
    "            os.makedirs(csv_folder)\n",
    "        # save to csv file\n",
    "        df.to_csv(csv_folder + i + \".csv\", index=False)\n",
    "    print(\"Convert from JSON to CSV successfully\")"
   ]
  },
  {
   "cell_type": "code",
   "execution_count": 103,
   "metadata": {},
   "outputs": [
    {
     "name": "stdout",
     "output_type": "stream",
     "text": [
      "Convert from JSON to CSV successfully\n"
     ]
    }
   ],
   "source": [
    "fromJSONtoCSV(json_folder=json_folder, csv_folder=csv_folder)"
   ]
  },
  {
   "cell_type": "code",
   "execution_count": null,
   "metadata": {},
   "outputs": [],
   "source": []
  },
  {
   "cell_type": "code",
   "execution_count": null,
   "metadata": {},
   "outputs": [],
   "source": []
  },
  {
   "cell_type": "code",
   "execution_count": null,
   "metadata": {},
   "outputs": [],
   "source": []
  },
  {
   "cell_type": "code",
   "execution_count": null,
   "metadata": {},
   "outputs": [],
   "source": []
  }
 ],
 "metadata": {
  "kernelspec": {
   "display_name": "Python 3.8.10 64-bit",
   "language": "python",
   "name": "python3"
  },
  "language_info": {
   "codemirror_mode": {
    "name": "ipython",
    "version": 3
   },
   "file_extension": ".py",
   "mimetype": "text/x-python",
   "name": "python",
   "nbconvert_exporter": "python",
   "pygments_lexer": "ipython3",
   "version": "3.8.10"
  },
  "orig_nbformat": 4,
  "vscode": {
   "interpreter": {
    "hash": "916dbcbb3f70747c44a77c7bcd40155683ae19c65e1c03b4aa3499c5328201f1"
   }
  }
 },
 "nbformat": 4,
 "nbformat_minor": 2
}
